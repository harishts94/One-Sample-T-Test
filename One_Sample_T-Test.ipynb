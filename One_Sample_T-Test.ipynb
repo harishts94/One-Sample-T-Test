{
 "cells": [
  {
   "cell_type": "markdown",
   "id": "af2ff684-e393-4a6c-83ad-5b86c5fb784c",
   "metadata": {
    "panel-layout": {
     "height": 60.60185241699219,
     "visible": true,
     "width": 100
    }
   },
   "source": [
    "# One Sample T-Test\n",
    "\n",
    "A one-sample t-test is a statistical test used to determine whether the mean of a single sample is significantly different from a overall population mean. It helps assess whether the observed data provides enough evidence to conclude that the sample mean differs from a specific value."
   ]
  },
  {
   "cell_type": "markdown",
   "id": "8a65ca8a-80ab-430c-88f2-9d99ec3da32a",
   "metadata": {
    "panel-layout": {
     "height": 44.074073791503906,
     "visible": true,
     "width": 100
    }
   },
   "source": [
    "### Import required packages"
   ]
  },
  {
   "cell_type": "code",
   "execution_count": 3,
   "id": "85f99923-b4dd-46fa-b1f7-b04cd892d6df",
   "metadata": {},
   "outputs": [],
   "source": [
    "import numpy as np\n",
    "import matplotlib.pyplot as plt\n",
    "from scipy.stats import ttest_1samp, norm"
   ]
  },
  {
   "cell_type": "markdown",
   "id": "75d0f4c2-0021-4823-af00-42a596b57300",
   "metadata": {
    "panel-layout": {
     "height": 44.074073791503906,
     "visible": true,
     "width": 100
    }
   },
   "source": [
    "### Create Mock data"
   ]
  },
  {
   "cell_type": "code",
   "execution_count": 6,
   "id": "6ec2b4b4-9a73-4106-80b3-3171b890e9e1",
   "metadata": {},
   "outputs": [],
   "source": [
    "population = norm.rvs(loc = 500, scale= 100, size= 1000, random_state= 42).astype(int)"
   ]
  },
  {
   "cell_type": "markdown",
   "id": "7098a49f-48c7-463e-a38e-b2c46f13dfe0",
   "metadata": {
    "panel-layout": {
     "height": 252.65045166015625,
     "visible": true,
     "width": 100
    }
   },
   "source": [
    "`norm.rvs` allows to create some random variables in the form of a normal distribuition\n",
    "\n",
    "`loc` refers to location, it is a kind of odd way to say the mean of the distribuition\n",
    "\n",
    "Credit score range from 0 to 1000, so the value of loc= 500 will be quite good\n",
    "\n",
    "`scale` refers to standard deviation\n",
    "\n",
    "`size` refers to sample size\n",
    "\n",
    "Alternatively the following code can also be used to create a normal distribuition random sample `x = np.random.normal(500, 100, 1000).astype(int)` & `use np.random.seed(42)` for random state setting"
   ]
  },
  {
   "cell_type": "code",
   "execution_count": 9,
   "id": "8f28ede5-43c1-4588-bc9f-c40bbd21cb3e",
   "metadata": {},
   "outputs": [],
   "source": [
    "np.random.seed(42)\n",
    "sample = np.random.choice(population, 250)"
   ]
  },
  {
   "cell_type": "markdown",
   "id": "89b8c691-c22c-44ab-9c6e-7086aa31eb65",
   "metadata": {
    "panel-layout": {
     "height": 43.206016540527344,
     "visible": true,
     "width": 100
    }
   },
   "source": [
    "#### Visualizing the distribution of the data"
   ]
  },
  {
   "cell_type": "code",
   "execution_count": 12,
   "id": "5e81084d-5f95-41f9-9ab6-2f9d2baaa5ee",
   "metadata": {
    "panel-layout": {
     "height": 700.995361328125,
     "visible": true,
     "width": 100
    }
   },
   "outputs": [
    {
     "data": {
      "image/png": "[encoded data removed]",
      "text/plain": [
       "<Figure size 640x480 with 1 Axes>"
      ]
     },
     "metadata": {},
     "output_type": "display_data"
    }
   ],
   "source": [
    "plt.hist(population, density= True, alpha= 0.5)\n",
    "plt.hist(sample, density= True, alpha= 0.5)\n",
    "plt.tight_layout()\n",
    "plt.show()"
   ]
  },
  {
   "cell_type": "markdown",
   "id": "f6da4be3-05d2-4252-8454-9c56c887fb14",
   "metadata": {
    "panel-layout": {
     "height": 69.00462341308594,
     "visible": true,
     "width": 100
    }
   },
   "source": [
    "`density` will return the proportional frequency on the plot rather than the raw numbers"
   ]
  },
  {
   "cell_type": "markdown",
   "id": "4ca8fc7b-480e-42ec-a803-a96e851314c2",
   "metadata": {
    "panel-layout": {
     "height": 43.206016540527344,
     "visible": true,
     "width": 100
    }
   },
   "source": [
    "#### Mean of the data"
   ]
  },
  {
   "cell_type": "code",
   "execution_count": 16,
   "id": "5f52989f-aff8-47bb-9158-710ef6476eb1",
   "metadata": {
    "panel-layout": {
     "height": 700.995361328125,
     "visible": true,
     "width": 100
    }
   },
   "outputs": [
    {
     "name": "stdout",
     "output_type": "stream",
     "text": [
      "501.43 503.344\n"
     ]
    }
   ],
   "source": [
    "population_mean = population.mean()\n",
    "sample_mean = sample.mean()\n",
    "print(population_mean, sample_mean)"
   ]
  },
  {
   "cell_type": "markdown",
   "id": "8baa0aa4-1a24-4224-8f1c-1152b6af5df3",
   "metadata": {
    "panel-layout": {
     "height": 44.074073791503906,
     "visible": true,
     "width": 100
    }
   },
   "source": [
    "### Set the hypothesis and acceptance criteria"
   ]
  },
  {
   "cell_type": "code",
   "execution_count": 28,
   "id": "cd472cdc-ae37-4da4-99a1-b1c610e6ee02",
   "metadata": {},
   "outputs": [],
   "source": [
    "null_hypothesis = \"The mean of the sample is equal to mean of the mean of the population.\"\n",
    "alternative_hypothesis = \"The mean of the sample is diffrent to mean of the mean of the population.\"\n",
    "acceptance_criteria = 0.05"
   ]
  },
  {
   "cell_type": "markdown",
   "id": "94734bc1-d8b9-4782-a25f-04592bed5545",
   "metadata": {
    "panel-layout": {
     "height": 44.074073791503906,
     "visible": true,
     "width": 100
    }
   },
   "source": [
    "### Execute the hypothesis test"
   ]
  },
  {
   "cell_type": "code",
   "execution_count": 22,
   "id": "8cdea459-0dff-48c7-a646-123fc8ec49d4",
   "metadata": {
    "panel-layout": {
     "height": 700.995361328125,
     "visible": true,
     "width": 100
    }
   },
   "outputs": [
    {
     "name": "stdout",
     "output_type": "stream",
     "text": [
      "0.30898519995058266 0.7575911611764024\n"
     ]
    }
   ],
   "source": [
    "t_statistic, p_value = ttest_1samp(sample, population_mean)\n",
    "print(t_statistic, p_value)"
   ]
  },
  {
   "cell_type": "markdown",
   "id": "edd38975-cd21-42f8-a802-8941ab967b13",
   "metadata": {
    "panel-layout": {
     "height": 44.074073791503906,
     "visible": true,
     "width": 100
    }
   },
   "source": [
    "### Result of the test (p-value)"
   ]
  },
  {
   "cell_type": "code",
   "execution_count": 30,
   "id": "9a2f01f7-d54c-4447-aaf4-20f3a94a9ec6",
   "metadata": {},
   "outputs": [
    {
     "name": "stdout",
     "output_type": "stream",
     "text": [
      "As our p-value of 0.7575911611764024 is higher than our acceptance criteria of 0.05 - we retain the null hypothesis, and conclude that: The mean of the sample is equal to mean of the mean of the population.\n"
     ]
    }
   ],
   "source": [
    "if p_value <= acceptance_criteria:\n",
    "    print(f\"As our p-value of {p_value} is lower than our acceptance criteria of {acceptance_criteria} - we reject the null hypothesis, and conclude that: {alternative_hypothesis}\")\n",
    "else:\n",
    "    print(f\"As our p-value of {p_value} is higher than our acceptance criteria of {acceptance_criteria} - we retain the null hypothesis, and conclude that: {null_hypothesis}\")"
   ]
  },
  {
   "cell_type": "markdown",
   "id": "3e54d9c0-766a-4d0d-b02a-f84a7c6421e3",
   "metadata": {
    "panel-layout": {
     "height": 44.074073791503906,
     "visible": true,
     "width": 100
    }
   },
   "source": [
    "### Interpreting the test result\n",
    "\n"
   ]
  }
 ],
 "metadata": {
  "kernelspec": {
   "display_name": "Python 3 (ipykernel)",
   "language": "python",
   "name": "python3"
  },
  "language_info": {
   "codemirror_mode": {
    "name": "ipython",
    "version": 3
   },
   "file_extension": ".py",
   "mimetype": "text/x-python",
   "name": "python",
   "nbconvert_exporter": "python",
   "pygments_lexer": "ipython3",
   "version": "3.12.4"
  },
  "panel-cell-order": [
   "af2ff684-e393-4a6c-83ad-5b86c5fb784c",
   "8a65ca8a-80ab-430c-88f2-9d99ec3da32a",
   "75d0f4c2-0021-4823-af00-42a596b57300",
   "7098a49f-48c7-463e-a38e-b2c46f13dfe0",
   "89b8c691-c22c-44ab-9c6e-7086aa31eb65",
   "5e81084d-5f95-41f9-9ab6-2f9d2baaa5ee",
   "f6da4be3-05d2-4252-8454-9c56c887fb14",
   "4ca8fc7b-480e-42ec-a803-a96e851314c2",
   "5f52989f-aff8-47bb-9158-710ef6476eb1",
   "8baa0aa4-1a24-4224-8f1c-1152b6af5df3",
   "94734bc1-d8b9-4782-a25f-04592bed5545",
   "8cdea459-0dff-48c7-a646-123fc8ec49d4",
   "edd38975-cd21-42f8-a802-8941ab967b13",
   "3e54d9c0-766a-4d0d-b02a-f84a7c6421e3"
  ]
 },
 "nbformat": 4,
 "nbformat_minor": 5
}
